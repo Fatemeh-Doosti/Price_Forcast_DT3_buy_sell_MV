{
  "nbformat": 4,
  "nbformat_minor": 0,
  "metadata": {
    "colab": {
      "provenance": []
    },
    "kernelspec": {
      "name": "python3",
      "display_name": "Python 3"
    },
    "language_info": {
      "name": "python"
    }
  },
  "cells": [
    {
      "cell_type": "markdown",
      "source": [
        "#Price forecasting with DT 3 algorithm and displaying buy and sell signals with indicator Moving average"
      ],
      "metadata": {
        "id": "ct3O4DsFFdY2"
      }
    },
    {
      "cell_type": "code",
      "execution_count": null,
      "metadata": {
        "id": "kCwXice2FCgQ"
      },
      "outputs": [],
      "source": [
        "# Import necessary libraries\n",
        "import yfinance as yf  # Used to download stock data\n",
        "import numpy as np  # For numerical operations\n",
        "from sklearn.tree import DecisionTreeClassifier  # Decision tree classifier for making buy/sell decisions\n",
        "import matplotlib.pyplot as plt  # For creating plots\n",
        "from sklearn.metrics import confusion_matrix, classification_report  # Used for evaluating model performance\n",
        "\n",
        "# Define the stock symbol, start and end date for data retrieval\n",
        "ticker = \"TSLA\"  # Stock symbol for Tesla\n",
        "start_date = \"2022-06-30\"\n",
        "end_date = \"2023-06-30\"\n",
        "\n",
        "# Download historical stock data for the specified period\n",
        "data = yf.download(ticker, start=start_date, end=end_date)\n",
        "\n",
        "# Calculate daily returns and shift the data by one day\n",
        "data['Return'] = data['Close'].pct_change().shift(-1)\n",
        "\n",
        "# Remove rows with missing values (NaN)\n",
        "data.dropna(inplace=True)\n",
        "\n",
        "# Prepare the data for machine learning\n",
        "X = np.array(data['Return']).reshape(-1, 1)  # Input features (returns)\n",
        "y = np.where(data['Return'].shift(-1) > 0, 1, 0)  # Output labels (1 for buy, 0 for sell)\n",
        "\n",
        "# Split the data into training and testing sets\n",
        "split = int(0.8 * len(data))\n",
        "X_train, X_test = X[:split], X[split:]\n",
        "y_train, y_test = y[:split], y[split:]\n",
        "\n",
        "# Create a decision tree classifier and fit it to the training data\n",
        "model = DecisionTreeClassifier()\n",
        "model.fit(X_train, y_train)\n",
        "\n",
        "# Make predictions on the test data\n",
        "y_pred = model.predict(X_test)\n",
        "\n",
        "# Initialize lists to track buy and sell dates, prices, and calculate shares\n",
        "buy_dates = []\n",
        "sell_dates = []\n",
        "buy_prices = []\n",
        "sell_prices = []\n",
        "shares = 0\n",
        "\n",
        "# Determine buy and sell points based on the model predictions\n",
        "for i in range(len(y_pred)):\n",
        "    if y_pred[i] == 1:\n",
        "        if shares == 0:\n",
        "            buy_dates.append(data.index[i + split])\n",
        "            buy_prices.append(data['Close'][i + split])\n",
        "        shares += 10000 / data['Close'][i + split]\n",
        "    else:\n",
        "        if shares > 0:\n",
        "            sell_dates.append(data.index[i + split])\n",
        "            sell_prices.append(data['Close'][i + split])\n",
        "        shares = 0\n",
        "\n",
        "# Create a plot showing stock price, moving averages, buy, and sell points\n",
        "plt.figure(figsize=(10, 6))\n",
        "plt.plot(data.index[split:], data['Close'][split:], label='Price')\n",
        "rolling_mean = data['Close'].rolling(window=20).mean()\n",
        "plt.plot(data.index[split:], rolling_mean[split:], label='Moving Average (20 days)')\n",
        "rolling_mean = data['Close'].rolling(window=50).mean()\n",
        "plt.plot(data.index[split:], rolling_mean[split:], label='Moving Average (50 days)')\n",
        "plt.plot(buy_dates, buy_prices, 'g^', markersize=10, label='Buy')\n",
        "plt.plot(sell_dates, sell_prices, 'rv', markersize=10, label='Sell')\n",
        "plt.legend()\n",
        "plt.title(f\"{ticker} Stock Trading Decisions\")\n",
        "plt.xlabel(\"Date\")\n",
        "plt.ylabel(\"Price\")\n",
        "plt.show()\n",
        "\n",
        "# Create a plot showing actual and predicted stock price movements\n",
        "plt.figure(figsize=(10, 6))\n",
        "plt.plot(data.index[split:], y_test, label='Actual')\n",
        "plt.plot(data.index[split:], y_pred, label='Predicted')\n",
        "plt.legend()\n",
        "plt.title(f\"{ticker} Stock Price Prediction\")\n",
        "plt.xlabel(\"Date\")\n",
        "plt.ylabel(\"Prediction\")\n",
        "plt.show()\n"
      ]
    },
    {
      "cell_type": "markdown",
      "source": [
        "* This code retrieves stock data, builds a decision tree model to make buy/sell decisions based on returns, and visualizes the results with price charts. The code also uses rolling averages to analyze price trends."
      ],
      "metadata": {
        "id": "q49uD0IbFySN"
      }
    }
  ]
}